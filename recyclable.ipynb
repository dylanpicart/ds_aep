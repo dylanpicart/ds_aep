{
 "cells": [
  {
   "cell_type": "markdown",
   "metadata": {},
   "source": [
    "# Recyclable and Low Fat Products\n",
    "\n",
    "Write a solution to find the ids of products that are both low fat and recyclable.\n",
    "\n",
    "Return the result table in any order.\n",
    "\n",
    "The result format is in the following example.\n",
    "\n",
    "**Example 1:**\n",
    "```\n",
    "Input: \n",
    "Products table:\n",
    "+-------------+----------+------------+\n",
    "| product_id  | low_fats | recyclable |\n",
    "+-------------+----------+------------+\n",
    "| 0           | Y        | N          |\n",
    "| 1           | Y        | Y          |\n",
    "| 2           | N        | Y          |\n",
    "| 3           | Y        | Y          |\n",
    "| 4           | N        | N          |\n",
    "+-------------+----------+------------+\n",
    "\n",
    "Output: \n",
    "+-------------+\n",
    "| product_id  |\n",
    "+-------------+\n",
    "| 1           |\n",
    "| 3           |\n",
    "+-------------+\n",
    "```\n",
    "Explanation: Only products 1 and 3 are both low fat and recyclable.\n",
    "\n",
    "Once you have implemented your solution, run the code block containing your `find_products` function. Be sure that your function [returns](https://www.geeksforgeeks.org/python-return-statement/) a dataframe, and doesn't simply print."
   ]
  },
  {
   "cell_type": "code",
   "execution_count": 54,
   "metadata": {},
   "outputs": [],
   "source": [
    "import numpy as np\n",
    "import pandas as pd\n",
    "\n",
    "def find_products(products):\n",
    "    \"\"\"\n",
    "    Method filters a DataFrame to contain rows where both low_fats & recyclable are set equal to 'Y'\n",
    "\n",
    "    Args:\n",
    "        products (DataFrame): DataFrame containing priduct_id, low_fats, & recyclable columns\n",
    "\n",
    "    Returns:\n",
    "        DataFrame: Filtered DataFrame where the products both have low fat and are recyclable\n",
    "    \"\"\"\n",
    "    # We use '&' instead of 'and' because the former runs comparison across the Series,comparing corresponding elements\n",
    "    fr_product_id = products[(products['low_fats'] == 'Y') & (products['recyclable'] == 'Y')]\n",
    "    # Alternative, slighly less efficient method\n",
    "    # fr_product_id = products[np.logical_and(products['low_fats'] == 'Y', products['recyclable'] == 'Y')]   \n",
    "    # Drops low_fats & recyclable columns\n",
    "    cols = list(products.columns) # More Pythonic way to drop\n",
    "    fr_product_id = fr_product_id.drop(columns=cols[1:], axis=1) # OR .drop(['low_fats', 'recyclable'], axis=1)\n",
    "    \n",
    "    return fr_product_id"
   ]
  },
  {
   "cell_type": "markdown",
   "metadata": {},
   "source": [
    "## Test Block\n",
    "\n",
    "**NOTE: Before running the code block below, please be sure that the function you implemented above runs successfully (i.e. a green check-mark appears when running your code)**\n",
    "\n",
    "Run the following block of code to test your `find_products` function. If all cases evaluate to true, your code is functioning correctly!"
   ]
  },
  {
   "cell_type": "code",
   "execution_count": 55,
   "metadata": {},
   "outputs": [
    {
     "name": "stdout",
     "output_type": "stream",
     "text": [
      "Output\n",
      ":    product_id\n",
      "1           1\n",
      "3           3\n",
      "Test case 1: True\n"
     ]
    }
   ],
   "source": [
    "from tests import test_recyclable\n",
    "\n",
    "data = pd.read_csv(\"data/recyclable_data.csv\")\n",
    "\n",
    "output = find_products(data)\n",
    "result1 = test_recyclable.test1(output)\n",
    "\n",
    "print(\"Output\\n:\", output)\n",
    "print(\"Test case 1:\", result1)"
   ]
  }
 ],
 "metadata": {
  "kernelspec": {
   "display_name": "base",
   "language": "python",
   "name": "python3"
  },
  "language_info": {
   "codemirror_mode": {
    "name": "ipython",
    "version": 3
   },
   "file_extension": ".py",
   "mimetype": "text/x-python",
   "name": "python",
   "nbconvert_exporter": "python",
   "pygments_lexer": "ipython3",
   "version": "3.12.5"
  }
 },
 "nbformat": 4,
 "nbformat_minor": 2
}
