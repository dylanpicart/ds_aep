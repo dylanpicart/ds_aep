{
 "cells": [
  {
   "cell_type": "markdown",
   "metadata": {},
   "source": [
    "# Max Profits\n",
    "\n",
    "You are given a list of stock prices, where the stock's price on the `ith` day is stored as the `ith` element of the prices list.\n",
    "\n",
    "You want to maximize your profit trading the stock, but are only allowed to buy the stock once and sell it once on a future day.\n",
    "\n",
    "Write a function called `max_profit` which takes in this list of stock prices, and computes the max profit possible. Return 0 if you can't make any profit.\n",
    "\n",
    "**Example 1:**\n",
    "Input: prices = [9, 1, 3, 6, 4, 8, 3, 5, 5] \n",
    "\n",
    "Output: 7 \n",
    "\n",
    "Explanation: Buy on day 2 (price = 1) and sell on day 6 (price = 8), profit=8−1=7.\n",
    "\n",
    "Note that buying on day 2 and selling on day 1 is not allowed because you have to buy the stock BEFORE you can sell it (unless your a time-traveller in which case just trade bitcoin).\n",
    "\n",
    "**Example 2:**\n",
    "Input: prices = [6, 4, 3, 3, 2] \n",
    "\n",
    "Output: 0 \n",
    "\n",
    "Explanation: In this case, no trades should be made since the stock is tanking like a brick. The max profit here is 0.\n",
    "\n",
    "Once you have implemented your solution, run the code block containing your `max_profit` function. Be sure that your function [returns](https://www.geeksforgeeks.org/python-return-statement/) an integer, and doesn't simply print."
   ]
  },
  {
   "cell_type": "code",
   "execution_count": 18,
   "metadata": {},
   "outputs": [],
   "source": [
    "# We can try to use the min and max values to locate in the list.\n",
    "# We need to create a condition that checks if the min is before the max\n",
    "# This means eliminating the choices preceding the min\n",
    "import numpy as np\n",
    "      \n",
    "\n",
    "def max_profit(prices):\n",
    "    \"\"\"\n",
    "    This function compares the elements within the list to each other and returns\n",
    "    the difference between the local max and the local minimum value preceeding it.\n",
    "\n",
    "    Args:\n",
    "        prices (list): List of ints where index counts as days & int values count as stock prices\n",
    "\n",
    "    Returns:\n",
    "        Int: Returns the maximum profit calculated through the \n",
    "        difference between the local price and current minimum price\n",
    "    \"\"\"\n",
    "    \n",
    "    # In case a list input is less than two values\n",
    "    if len(prices) < 2:\n",
    "        return 0  # Not enough prices to calculate profit\n",
    "\n",
    "    # Set initial minimum to the first index and the max_profit to 0\n",
    "    min_price = prices[0]\n",
    "    max_profit = 0\n",
    "    # Iterate through the list of prices\n",
    "    for price in prices[1:]:\n",
    "        # Set the profit equal to the current price minus the minimum price (prices[0])\n",
    "        profit = price - min_price\n",
    "        # Update & set max_profit to local profit if local profit is greater than current max_profit\n",
    "        if profit > max_profit:\n",
    "            max_profit = profit\n",
    "        # Update & set min_price equal to local price if local price is less than min_price\n",
    "        if price < min_price:\n",
    "            min_price = price\n",
    "\n",
    "    return max_profit            "
   ]
  },
  {
   "cell_type": "markdown",
   "metadata": {},
   "source": [
    "## Test Block\n",
    "\n",
    "**NOTE: Before running the code block below, please be sure that the function you implemented above runs successfully (i.e. a green check-mark appears when running your code)**\n",
    "\n",
    "Run the following block of code to test your `max_profit` function. If all cases evaluate to true, your code is functioning correctly!"
   ]
  },
  {
   "cell_type": "code",
   "execution_count": 19,
   "metadata": {},
   "outputs": [
    {
     "name": "stdout",
     "output_type": "stream",
     "text": [
      "Output 1 \n",
      ": 7\n",
      "Test case 1: True\n",
      "Output 2 \n",
      ": 0\n",
      "Test case 2: True\n",
      "Output 3\n",
      ": 6\n",
      "Test case 3: True\n"
     ]
    }
   ],
   "source": [
    "from tests import test_max_profit\n",
    "\n",
    "output1 = max_profit([9, 1, 3, 6, 4, 8, 3, 5, 5])\n",
    "result1 = test_max_profit.test1(output1)\n",
    "\n",
    "output2 = max_profit([6, 4, 3, 3, 2])\n",
    "result2 = test_max_profit.test2(output2)\n",
    "\n",
    "output3 = max_profit([4, 5, 10, 3, 5, 3, 9, 6])\n",
    "result3 = test_max_profit.test3(output3)\n",
    "\n",
    "print(\"Output 1 \\n:\", output1)\n",
    "print(\"Test case 1:\", result1)\n",
    "print(\"Output 2 \\n:\", output2)\n",
    "print(\"Test case 2:\", result2)\n",
    "print(\"Output 3\\n:\", output3)\n",
    "print(\"Test case 3:\", result3)"
   ]
  }
 ],
 "metadata": {
  "kernelspec": {
   "display_name": "base",
   "language": "python",
   "name": "python3"
  },
  "language_info": {
   "codemirror_mode": {
    "name": "ipython",
    "version": 3
   },
   "file_extension": ".py",
   "mimetype": "text/x-python",
   "name": "python",
   "nbconvert_exporter": "python",
   "pygments_lexer": "ipython3",
   "version": "3.12.5"
  }
 },
 "nbformat": 4,
 "nbformat_minor": 2
}
